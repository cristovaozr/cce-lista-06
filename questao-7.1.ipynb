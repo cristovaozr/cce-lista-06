{
 "cells": [
  {
   "cell_type": "code",
   "execution_count": 8,
   "metadata": {},
   "outputs": [
    {
     "name": "stdout",
     "output_type": "stream",
     "text": [
      "Galois Field:\n",
      "  name: GF(2^4)\n",
      "  characteristic: 2\n",
      "  degree: 4\n",
      "  order: 16\n",
      "  irreducible_poly: x^4 + x + 1\n",
      "  is_primitive_poly: True\n",
      "  primitive_element: x\n"
     ]
    }
   ],
   "source": [
    "import galois\n",
    "\n",
    "m = 4\n",
    "GF16 = galois.GF(2**m, repr=\"power\")\n",
    "print(GF16.properties)\n"
   ]
  },
  {
   "cell_type": "code",
   "execution_count": 9,
   "metadata": {},
   "outputs": [
    {
     "name": "stdout",
     "output_type": "stream",
     "text": [
      "Polinômio a(x) (α^7)x^8 + (α)x^4 + (α^5)x + 1\n",
      "Polinòmio g(x) x^6 + (α^10)x^5 + (α^14)x^4 + (α^4)x^3 + (α^6)x^2 + (α^9)x + α^6\n"
     ]
    }
   ],
   "source": [
    "a = GF16.primitive_element\n",
    "A = galois.Poly.Degrees([0,1,4,8], coeffs=[1,a**5,a,a**7], field=GF16)\n",
    "G = galois.Poly.Degrees([0,1,2,3,4,5,6], coeffs=[a**6,a**9,a**6,a**4,a**14,a**10,1], field=GF16)\n",
    "print(\"Polinômio a(x)\", A)\n",
    "print(\"Polinòmio g(x)\", G)"
   ]
  },
  {
   "cell_type": "code",
   "execution_count": 10,
   "metadata": {},
   "outputs": [
    {
     "name": "stdout",
     "output_type": "stream",
     "text": [
      "Palavra-código (α^7)x^14 + (α^2)x^13 + (α^6)x^12 + (α^11)x^11 + (α^12)x^10 + (α^6)x^9 + (α^6)x^8 + (α^7)x^6 + (α^4)x^5 + (α^3)x^4 + (α^13)x^3 + (α^8)x^2 + (α^2)x + α^6\n"
     ]
    }
   ],
   "source": [
    "cw = A*G\n",
    "print(\"Palavra-código\", cw)"
   ]
  }
 ],
 "metadata": {
  "kernelspec": {
   "display_name": "venv",
   "language": "python",
   "name": "python3"
  },
  "language_info": {
   "codemirror_mode": {
    "name": "ipython",
    "version": 3
   },
   "file_extension": ".py",
   "mimetype": "text/x-python",
   "name": "python",
   "nbconvert_exporter": "python",
   "pygments_lexer": "ipython3",
   "version": "3.11.5"
  }
 },
 "nbformat": 4,
 "nbformat_minor": 2
}
